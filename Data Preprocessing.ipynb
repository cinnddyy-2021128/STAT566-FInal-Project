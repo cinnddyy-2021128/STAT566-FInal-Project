{
 "cells": [
  {
   "cell_type": "code",
   "execution_count": 13,
   "id": "f085dba1",
   "metadata": {},
   "outputs": [],
   "source": [
    "import pandas as pd\n",
    "import numpy as np\n",
    "import matplotlib.pyplot as plt"
   ]
  },
  {
   "cell_type": "code",
   "execution_count": 2,
   "id": "3c89a112",
   "metadata": {},
   "outputs": [
    {
     "name": "stderr",
     "output_type": "stream",
     "text": [
      "/var/folders/nb/rtr0nc7x48l33qs0l0j89fz00000gn/T/ipykernel_29015/4275483967.py:1: DtypeWarning: Columns (13) have mixed types. Specify dtype option on import or set low_memory=False.\n",
      "  data = pd.read_csv('socialpressnofact.csv')\n"
     ]
    }
   ],
   "source": [
    "data = pd.read_csv('socialpressnofact.csv')"
   ]
  },
  {
   "cell_type": "code",
   "execution_count": 3,
   "id": "c1afb7cc",
   "metadata": {},
   "outputs": [
    {
     "data": {
      "text/plain": [
       "(180002, 69)"
      ]
     },
     "execution_count": 3,
     "metadata": {},
     "output_type": "execute_result"
    }
   ],
   "source": [
    "data.shape"
   ]
  },
  {
   "cell_type": "code",
   "execution_count": 5,
   "id": "eba4c6f2",
   "metadata": {},
   "outputs": [
    {
     "data": {
      "text/plain": [
       "Index(['sex', 'yob', 'g2000', 'g2002', 'g2004', 'p2000', 'p2002', 'cluster',\n",
       "       'votedav', 'dem', 'nov', 'aug', 'city', 'hh_id', 'hh_size',\n",
       "       'totalpopulation_estimate', 'percent_male', 'percent_female',\n",
       "       'median_age', 'percent_under5years', 'percent_5to9years',\n",
       "       'percent_10to14years', 'percent_15to19years', 'percent_20to24years',\n",
       "       'percent_25to34years', 'percent_35to44years', 'percent_45to54years',\n",
       "       'percent_55to59years', 'percent_60to64years', 'percent_65to74years',\n",
       "       'percent_75to84years', 'percent_85yearsandolder',\n",
       "       'percent_18yearsandolder', 'percent_21yearsandover',\n",
       "       'percent_62yearsandover', 'percent_65yearsandover', 'percent_white',\n",
       "       'percent_black', 'percent_amindian_alaskan', 'percent_asian',\n",
       "       'percent_nativeandother', 'percent_other_nativeandother',\n",
       "       'percent_hispanicorlatino', 'percent_race_other', 'median_income',\n",
       "       'mean_income', 'employ_16', 'unemploy_16', 'unemploy_20to64',\n",
       "       'employ_20to64', 'employ_rename_20to64', 'hsorhigher', 'bach_orhigher',\n",
       "       'less9thgrade', 'grade9to12', 'highschool', 'somecollege', 'assoc',\n",
       "       'bachelors', 'grad', 'outcome_voted', 'treatment_dum',\n",
       "       'treat_hawthorne', 'treat_civic', 'treat_neighbors', 'treat_self',\n",
       "       'randn', 'oneperhh', 'p2004'],\n",
       "      dtype='object')"
      ]
     },
     "execution_count": 5,
     "metadata": {},
     "output_type": "execute_result"
    }
   ],
   "source": [
    "data.columns"
   ]
  },
  {
   "cell_type": "code",
   "execution_count": 6,
   "id": "66817d04",
   "metadata": {},
   "outputs": [],
   "source": [
    "individual_features = ['sex', 'yob', 'g2000', 'g2002', 'g2004', 'p2000', 'p2002', 'p2004',\n",
    "                       'treatment_dum', 'treat_hawthorne', 'treat_civic', \n",
    "                       'treat_self', 'treat_neighbors','outcome_voted']\n",
    "data_cleaned = data[individual_features]"
   ]
  },
  {
   "cell_type": "code",
   "execution_count": 7,
   "id": "0193722e",
   "metadata": {},
   "outputs": [
    {
     "data": {
      "text/html": [
       "<div>\n",
       "<style scoped>\n",
       "    .dataframe tbody tr th:only-of-type {\n",
       "        vertical-align: middle;\n",
       "    }\n",
       "\n",
       "    .dataframe tbody tr th {\n",
       "        vertical-align: top;\n",
       "    }\n",
       "\n",
       "    .dataframe thead th {\n",
       "        text-align: right;\n",
       "    }\n",
       "</style>\n",
       "<table border=\"1\" class=\"dataframe\">\n",
       "  <thead>\n",
       "    <tr style=\"text-align: right;\">\n",
       "      <th></th>\n",
       "      <th>sex</th>\n",
       "      <th>yob</th>\n",
       "      <th>g2000</th>\n",
       "      <th>g2002</th>\n",
       "      <th>g2004</th>\n",
       "      <th>p2000</th>\n",
       "      <th>p2002</th>\n",
       "      <th>p2004</th>\n",
       "      <th>treatment_dum</th>\n",
       "      <th>treat_hawthorne</th>\n",
       "      <th>treat_civic</th>\n",
       "      <th>treat_self</th>\n",
       "      <th>treat_neighbors</th>\n",
       "      <th>outcome_voted</th>\n",
       "    </tr>\n",
       "  </thead>\n",
       "  <tbody>\n",
       "    <tr>\n",
       "      <th>0</th>\n",
       "      <td>1</td>\n",
       "      <td>1962</td>\n",
       "      <td>1</td>\n",
       "      <td>0</td>\n",
       "      <td>1</td>\n",
       "      <td>0</td>\n",
       "      <td>0</td>\n",
       "      <td>1</td>\n",
       "      <td>1</td>\n",
       "      <td>0</td>\n",
       "      <td>0</td>\n",
       "      <td>1</td>\n",
       "      <td>0</td>\n",
       "      <td>0</td>\n",
       "    </tr>\n",
       "    <tr>\n",
       "      <th>1</th>\n",
       "      <td>1</td>\n",
       "      <td>1970</td>\n",
       "      <td>1</td>\n",
       "      <td>1</td>\n",
       "      <td>1</td>\n",
       "      <td>1</td>\n",
       "      <td>1</td>\n",
       "      <td>1</td>\n",
       "      <td>1</td>\n",
       "      <td>0</td>\n",
       "      <td>0</td>\n",
       "      <td>1</td>\n",
       "      <td>0</td>\n",
       "      <td>1</td>\n",
       "    </tr>\n",
       "    <tr>\n",
       "      <th>2</th>\n",
       "      <td>0</td>\n",
       "      <td>1951</td>\n",
       "      <td>1</td>\n",
       "      <td>0</td>\n",
       "      <td>1</td>\n",
       "      <td>1</td>\n",
       "      <td>0</td>\n",
       "      <td>1</td>\n",
       "      <td>0</td>\n",
       "      <td>0</td>\n",
       "      <td>0</td>\n",
       "      <td>0</td>\n",
       "      <td>0</td>\n",
       "      <td>1</td>\n",
       "    </tr>\n",
       "    <tr>\n",
       "      <th>3</th>\n",
       "      <td>0</td>\n",
       "      <td>1967</td>\n",
       "      <td>1</td>\n",
       "      <td>1</td>\n",
       "      <td>1</td>\n",
       "      <td>1</td>\n",
       "      <td>1</td>\n",
       "      <td>0</td>\n",
       "      <td>0</td>\n",
       "      <td>0</td>\n",
       "      <td>0</td>\n",
       "      <td>0</td>\n",
       "      <td>0</td>\n",
       "      <td>0</td>\n",
       "    </tr>\n",
       "    <tr>\n",
       "      <th>4</th>\n",
       "      <td>1</td>\n",
       "      <td>1973</td>\n",
       "      <td>1</td>\n",
       "      <td>1</td>\n",
       "      <td>1</td>\n",
       "      <td>0</td>\n",
       "      <td>1</td>\n",
       "      <td>1</td>\n",
       "      <td>0</td>\n",
       "      <td>0</td>\n",
       "      <td>0</td>\n",
       "      <td>0</td>\n",
       "      <td>0</td>\n",
       "      <td>0</td>\n",
       "    </tr>\n",
       "  </tbody>\n",
       "</table>\n",
       "</div>"
      ],
      "text/plain": [
       "   sex   yob  g2000  g2002  g2004  p2000  p2002  p2004  treatment_dum  \\\n",
       "0    1  1962      1      0      1      0      0      1              1   \n",
       "1    1  1970      1      1      1      1      1      1              1   \n",
       "2    0  1951      1      0      1      1      0      1              0   \n",
       "3    0  1967      1      1      1      1      1      0              0   \n",
       "4    1  1973      1      1      1      0      1      1              0   \n",
       "\n",
       "   treat_hawthorne  treat_civic  treat_self  treat_neighbors  outcome_voted  \n",
       "0                0            0           1                0              0  \n",
       "1                0            0           1                0              1  \n",
       "2                0            0           0                0              1  \n",
       "3                0            0           0                0              0  \n",
       "4                0            0           0                0              0  "
      ]
     },
     "execution_count": 7,
     "metadata": {},
     "output_type": "execute_result"
    }
   ],
   "source": [
    "data_cleaned.head()"
   ]
  },
  {
   "cell_type": "code",
   "execution_count": 14,
   "id": "97697b43",
   "metadata": {},
   "outputs": [
    {
     "data": {
      "image/png": "[encoded data removed]",
      "text/plain": [
       "<Figure size 640x480 with 1 Axes>"
      ]
     },
     "metadata": {},
     "output_type": "display_data"
    }
   ],
   "source": [
    "#plot a histogram of the age distribution\n",
    "plt.hist(data_cleaned['yob'], bins=30, edgecolor='black')\n",
    "plt.title('Age Distribution of Participants')\n",
    "plt.xlabel('Year of Birth')\n",
    "plt.ylabel('Frequency')\n",
    "plt.show()\n"
   ]
  },
  {
   "cell_type": "code",
   "execution_count": 17,
   "id": "beb11f96",
   "metadata": {},
   "outputs": [
    {
     "data": {
      "image/png": "[encoded data removed]",
      "text/plain": [
       "<Figure size 800x600 with 1 Axes>"
      ]
     },
     "metadata": {},
     "output_type": "display_data"
    }
   ],
   "source": [
    "#plot a pie chart of voting outcomes\n",
    "voting_outcomes = data_cleaned['outcome_voted'].value_counts()\n",
    "plt.figure(figsize=(8, 6))\n",
    "voting_outcomes.plot.pie(autopct='%1.1f%%', startangle=90, colors=['red', 'green'])\n",
    "plt.title('Voting Outcomes')\n",
    "plt.ylabel('')\n",
    "plt.show()\n"
   ]
  },
  {
   "cell_type": "code",
   "execution_count": null,
   "id": "01d2cfa7",
   "metadata": {},
   "outputs": [],
   "source": []
  },
  {
   "cell_type": "code",
   "execution_count": null,
   "id": "379f5474",
   "metadata": {},
   "outputs": [],
   "source": []
  },
  {
   "cell_type": "code",
   "execution_count": null,
   "id": "0a4cfae2",
   "metadata": {},
   "outputs": [],
   "source": []
  },
  {
   "cell_type": "code",
   "execution_count": null,
   "id": "9836fc6a",
   "metadata": {},
   "outputs": [],
   "source": []
  }
 ],
 "metadata": {
  "kernelspec": {
   "display_name": "current",
   "language": "python",
   "name": "python3"
  },
  "language_info": {
   "codemirror_mode": {
    "name": "ipython",
    "version": 3
   },
   "file_extension": ".py",
   "mimetype": "text/x-python",
   "name": "python",
   "nbconvert_exporter": "python",
   "pygments_lexer": "ipython3",
   "version": "3.13.2"
  }
 },
 "nbformat": 4,
 "nbformat_minor": 5
}
